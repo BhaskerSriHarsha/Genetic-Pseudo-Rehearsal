{
  "nbformat": 4,
  "nbformat_minor": 0,
  "metadata": {
    "colab": {
      "name": "Python_File_test_rig.ipynb",
      "provenance": [],
      "collapsed_sections": [],
      "machine_shape": "hm"
    },
    "kernelspec": {
      "name": "python3",
      "display_name": "Python 3"
    }
  },
  "cells": [
    {
      "cell_type": "code",
      "metadata": {
        "id": "oemvCYwWH5sL",
        "colab": {
          "base_uri": "https://localhost:8080/",
          "height": 34
        },
        "outputId": "71e17504-9a88-407e-8b8c-fe04959a0467"
      },
      "source": [
        "%tensorflow_version 1.x"
      ],
      "execution_count": null,
      "outputs": [
        {
          "output_type": "stream",
          "text": [
            "TensorFlow 1.x selected.\n"
          ],
          "name": "stdout"
        }
      ]
    },
    {
      "cell_type": "code",
      "metadata": {
        "id": "xOYtM1qGMU7X",
        "colab": {
          "base_uri": "https://localhost:8080/",
          "height": 34
        },
        "outputId": "aec5381d-b124-4765-e2cd-dcc0dba9b903"
      },
      "source": [
        "from Genetic_Rehearsal import *"
      ],
      "execution_count": null,
      "outputs": [
        {
          "output_type": "stream",
          "text": [
            "Using TensorFlow backend.\n"
          ],
          "name": "stderr"
        }
      ]
    },
    {
      "cell_type": "markdown",
      "metadata": {
        "id": "wp75nxcIVUxe"
      },
      "source": [
        "## Load the original data"
      ]
    },
    {
      "cell_type": "code",
      "metadata": {
        "id": "p_2Fzqw8WcG2"
      },
      "source": [
        "import keras\n",
        "from keras.datasets import mnist\n",
        "import numpy as np\n",
        "\n",
        "(x_train_h, y_train_h), (x_test_h, y_test_h) = mnist.load_data()\n",
        "\n",
        "x_train_h = x_train_h/255\n",
        "x_test_h = x_test_h/255\n",
        "\n",
        "# y_train_h = np.copy(y_train_h)\n",
        "# y_test_h = np.copy(y_test_h)\n",
        "\n",
        "# x_train_h = np.reshape(x_train_h,(60000,28,28,1))\n",
        "# x_test_h = np.reshape(x_test_h,(10000,28,28,1))\n",
        "\n",
        "pre_y_train_h = y_train_h\n",
        "pre_y_test_h = y_test_h\n",
        "\n",
        "y_test_h = keras.utils.to_categorical(y_test_h, 20)\n",
        "y_train_h = keras.utils.to_categorical(y_train_h, 20)\n",
        "\n",
        "# x_train_h = np.reshape(x_train_h,(60000,784))\n",
        "# x_test_h = np.reshape(x_test_h,(10000,784))"
      ],
      "execution_count": null,
      "outputs": []
    },
    {
      "cell_type": "code",
      "metadata": {
        "id": "YR1aw45lEEo3",
        "colab": {
          "base_uri": "https://localhost:8080/",
          "height": 34
        },
        "outputId": "2e951a0f-7540-4355-e842-c03082c3de2a"
      },
      "source": [
        "import cv2\n",
        "\n",
        "cv2.imwrite(\"sample_8.jpg\",x_train_h[1045])"
      ],
      "execution_count": null,
      "outputs": [
        {
          "output_type": "execute_result",
          "data": {
            "text/plain": [
              "True"
            ]
          },
          "metadata": {
            "tags": []
          },
          "execution_count": 21
        }
      ]
    },
    {
      "cell_type": "code",
      "metadata": {
        "id": "IIefpSb7QbrO",
        "colab": {
          "base_uri": "https://localhost:8080/",
          "height": 34
        },
        "outputId": "9f3e0f54-1839-4fe8-a0d5-31ddee93a2b8"
      },
      "source": [
        "# for i in range(20):\n",
        "print(y_train_h[1045])"
      ],
      "execution_count": null,
      "outputs": [
        {
          "output_type": "stream",
          "text": [
            "8\n"
          ],
          "name": "stdout"
        }
      ]
    },
    {
      "cell_type": "markdown",
      "metadata": {
        "id": "ofK7fbA1VX-t"
      },
      "source": [
        "## Create the model"
      ]
    },
    {
      "cell_type": "code",
      "metadata": {
        "id": "MeFOiJKbW3wf"
      },
      "source": [
        "from keras.models import Sequential\n",
        "from keras.layers import Flatten, Dense, Conv2D, Activation, Dropout, MaxPooling2D\n",
        "\n",
        "model = Sequential()\n",
        "\n",
        "model.add(Flatten())\n",
        "model.add(Dense(512))\n",
        "model.add(Activation('relu'))\n",
        "model.add(Dense(256))\n",
        "model.add(Activation('relu'))\n",
        "model.add(Dense(20))\n",
        "model.add(Activation('softmax'))\n",
        "model.compile(loss=keras.losses.categorical_crossentropy,\n",
        "              optimizer=keras.optimizers.Adadelta(),\n",
        "              metrics=['accuracy'])"
      ],
      "execution_count": null,
      "outputs": []
    },
    {
      "cell_type": "code",
      "metadata": {
        "id": "V1g05XXY_y3K",
        "colab": {
          "base_uri": "https://localhost:8080/",
          "height": 52
        },
        "outputId": "843c401c-f67b-437b-82a5-ca537f510793"
      },
      "source": [
        "score = model.evaluate(x_test_h,y_test_h,verbose=1)\n",
        "print(score)"
      ],
      "execution_count": null,
      "outputs": [
        {
          "output_type": "stream",
          "text": [
            "10000/10000 [==============================] - 1s 51us/step\n",
            "[3.0271900512695313, 0.058400001376867294]\n"
          ],
          "name": "stdout"
        }
      ]
    },
    {
      "cell_type": "markdown",
      "metadata": {
        "id": "C3yuJOERNzEP"
      },
      "source": [
        "## Train the model on original data"
      ]
    },
    {
      "cell_type": "code",
      "metadata": {
        "id": "YxRipsPDW9rW",
        "colab": {
          "base_uri": "https://localhost:8080/",
          "height": 159
        },
        "outputId": "7bdf844d-f41e-45a6-e5d4-fc2669f6fd43"
      },
      "source": [
        "history_original = model.fit(x_train_h,y_train_h,verbose=1,epochs=3,batch_size=100,validation_data=(x_test_h,y_test_h))"
      ],
      "execution_count": null,
      "outputs": [
        {
          "output_type": "stream",
          "text": [
            "Train on 60000 samples, validate on 10000 samples\n",
            "Epoch 1/3\n",
            "60000/60000 [==============================] - 6s 101us/step - loss: 0.2529 - accuracy: 0.9252 - val_loss: 0.1155 - val_accuracy: 0.9632\n",
            "Epoch 2/3\n",
            "60000/60000 [==============================] - 6s 99us/step - loss: 0.0908 - accuracy: 0.9725 - val_loss: 0.0855 - val_accuracy: 0.9739\n",
            "Epoch 3/3\n",
            "60000/60000 [==============================] - 6s 99us/step - loss: 0.0591 - accuracy: 0.9819 - val_loss: 0.0739 - val_accuracy: 0.9775\n"
          ],
          "name": "stdout"
        }
      ]
    },
    {
      "cell_type": "code",
      "metadata": {
        "id": "UTAomKSQAHb3"
      },
      "source": [
        "model.save(\"ML_MODEL_2\")"
      ],
      "execution_count": null,
      "outputs": []
    },
    {
      "cell_type": "markdown",
      "metadata": {
        "id": "L3NJReA6VZ3p"
      },
      "source": [
        "# Train the model on Genetic data\n",
        "\n",
        "Training on genetic data has the following steps\n",
        "\n",
        "1. Create the genetic data\n",
        "2. Enrich the generated data\n",
        "3. Create a model \n",
        "4. Train the model on the data"
      ]
    },
    {
      "cell_type": "markdown",
      "metadata": {
        "id": "aYgPp5v1ORt3"
      },
      "source": [
        "## Creating the genetic data"
      ]
    },
    {
      "cell_type": "code",
      "metadata": {
        "id": "GVCOKm6gcXZa",
        "colab": {
          "base_uri": "https://localhost:8080/",
          "height": 350
        },
        "outputId": "1c1dd27d-c4a2-46d5-ca6a-402f0239ab83"
      },
      "source": [
        "help(Genetic_data_Generator)"
      ],
      "execution_count": null,
      "outputs": [
        {
          "output_type": "stream",
          "text": [
            "Help on function Genetic_data_Generator in module Genetic_Rehearsal:\n",
            "\n",
            "Genetic_data_Generator(model, SHAPE, TARGET_CLASSES, verbose=1, population_size=16, NUMBER_OF_CULTURES=30, NUMBER_OF_GENERATIONS=100, MUTATION_PROBABILITY=0.1, MUTATION_TYPE='+')\n",
            "    The function takes in the model and target classes and generates synthetic data using Genetic Algorithm.\n",
            "    OUTPUT FORMAT: [synthetic_data, synthetic_labels]\n",
            "    \n",
            "    VARIABLE DESCRIPTION::\n",
            "    \n",
            "    model: Input the Keras built neural network.\n",
            "    SHAPE: Input the shape of sample in dataset. Example for MNIST digits, input ::SHAPE=(28,28,1)\n",
            "    TARGET_CLASSES: List of all the target classes for which synthetic data is generated.\n",
            "    verbose: Displays the intermediate output of algorithm if set to 1. Default is 1.\n",
            "    population_size: Size of population in each culture. Minimum of 4.\n",
            "    NUMBER_OF_CULTURES: Number of cultures in Genetic algorithm.\n",
            "    NUMBER_OF_GENERATIONS: Default set to 100. Ignore if selecting other stopping criteria.\n",
            "    MUTATION_PROBABILITY: A value between 0 and 1 which decides the probability of a pixel getting mutated.\n",
            "    MUTATION_TYPE: Default = \"+\"; Options = \"+\",\"-\",\"*\";\"+\" signifies a positive mutation, \"-\" signifies a negative mutation and \"*\" signifies a random mutation.\n",
            "\n"
          ],
          "name": "stdout"
        }
      ]
    },
    {
      "cell_type": "code",
      "metadata": {
        "id": "1eabxuSu5arG",
        "colab": {
          "base_uri": "https://localhost:8080/",
          "height": 1000
        },
        "outputId": "c94b4297-800f-4f9f-af1a-a7e31dc79858"
      },
      "source": [
        "TARGET_CLASSES = [0,1,2,3]\n",
        "# synthetic_data = Genetic_data_Generator(model,SHAPE=(784,),TARGET_CLASSES = [0,1,2,3,4],verbose=1,population_size=16,NUMBER_OF_CULTURES = 30,NUMBER_OF_GENERATIONS = 100,MUTATION_PROBABILITY = 0.1,MUTATION_TYPE = \"+\")\n",
        "synthetic_data = Genetic_data_Generator(model,SHAPE=(28,28),TARGET_CLASSES = [0,1,2,3,4],verbose=1,population_size=16,NUMBER_OF_CULTURES = 30,NUMBER_OF_GENERATIONS = 100,MUTATION_PROBABILITY = 0.1,MUTATION_TYPE = \"+\")"
      ],
      "execution_count": null,
      "outputs": [
        {
          "output_type": "stream",
          "text": [
            "Class number:  0\n",
            "Best:  3.7975307554006577  Culture number:  0  Class number:  0\n",
            "Best:  7.926738262176514  Culture number:  0  Class number:  0\n",
            "Best:  8.413998037576675  Culture number:  0  Class number:  0\n",
            "Best:  10.015182942152023  Culture number:  0  Class number:  0\n",
            "Best:  16.566112637519836  Culture number:  0  Class number:  0\n",
            "Best:  16.566112637519836  Culture number:  0  Class number:  0\n",
            "Best:  17.3182874917984  Culture number:  0  Class number:  0\n",
            "Best:  17.95591413974762  Culture number:  0  Class number:  0\n",
            "Best:  17.95591413974762  Culture number:  0  Class number:  0\n",
            "Best:  18.764743208885193  Culture number:  0  Class number:  0\n",
            "Best:  79.19135689735413  Culture number:  0  Class number:  0\n",
            "Best:  79.19135689735413  Culture number:  0  Class number:  0\n",
            "Best:  79.19135689735413  Culture number:  0  Class number:  0\n",
            "Best:  79.19135689735413  Culture number:  0  Class number:  0\n",
            "Best:  79.19135689735413  Culture number:  0  Class number:  0\n",
            "Best:  99.12940859794617  Culture number:  0  Class number:  0\n",
            "Best:  3.7975307554006577  Culture number:  1  Class number:  0\n",
            "Best:  4.665781930088997  Culture number:  1  Class number:  0\n",
            "Best:  20.230332016944885  Culture number:  1  Class number:  0\n",
            "Best:  46.413952112197876  Culture number:  1  Class number:  0\n",
            "Best:  71.41387462615967  Culture number:  1  Class number:  0\n",
            "Best:  72.20883965492249  Culture number:  1  Class number:  0\n",
            "Best:  92.80043244361877  Culture number:  1  Class number:  0\n",
            "Best:  97.8173315525055  Culture number:  1  Class number:  0\n",
            "Best:  97.8173315525055  Culture number:  1  Class number:  0\n",
            "Best:  98.3400046825409  Culture number:  1  Class number:  0\n",
            "Best:  99.54877495765686  Culture number:  1  Class number:  0\n",
            "Best:  3.7975307554006577  Culture number:  2  Class number:  0\n",
            "Best:  24.99082386493683  Culture number:  2  Class number:  0\n",
            "Best:  24.99082386493683  Culture number:  2  Class number:  0\n",
            "Best:  24.99082386493683  Culture number:  2  Class number:  0\n",
            "Best:  56.56691789627075  Culture number:  2  Class number:  0\n",
            "Best:  70.29547095298767  Culture number:  2  Class number:  0\n",
            "Best:  90.65117835998535  Culture number:  2  Class number:  0\n",
            "Best:  90.65117835998535  Culture number:  2  Class number:  0\n",
            "Best:  98.25959205627441  Culture number:  2  Class number:  0\n",
            "Best:  98.25959205627441  Culture number:  2  Class number:  0\n",
            "Best:  99.2142915725708  Culture number:  2  Class number:  0\n",
            "Best:  3.7975307554006577  Culture number:  3  Class number:  0\n",
            "Best:  3.7975307554006577  Culture number:  3  Class number:  0\n",
            "Best:  15.66304862499237  Culture number:  3  Class number:  0\n",
            "Best:  43.95589828491211  Culture number:  3  Class number:  0\n",
            "Best:  43.95589828491211  Culture number:  3  Class number:  0\n",
            "Best:  48.910775780677795  Culture number:  3  Class number:  0\n",
            "Best:  50.69066286087036  Culture number:  3  Class number:  0\n",
            "Best:  83.80137085914612  Culture number:  3  Class number:  0\n",
            "Best:  94.29212212562561  Culture number:  3  Class number:  0\n",
            "Best:  95.46741247177124  Culture number:  3  Class number:  0\n",
            "Best:  97.09390997886658  Culture number:  3  Class number:  0\n",
            "Best:  98.76154661178589  Culture number:  3  Class number:  0\n",
            "Best:  98.76154661178589  Culture number:  3  Class number:  0\n",
            "Best:  98.7633228302002  Culture number:  3  Class number:  0\n",
            "Best:  99.7972309589386  Culture number:  3  Class number:  0\n",
            "Best:  3.7975307554006577  Culture number:  4  Class number:  0\n",
            "Best:  4.278960078954697  Culture number:  4  Class number:  0\n",
            "Best:  7.274037599563599  Culture number:  4  Class number:  0\n",
            "Best:  7.274037599563599  Culture number:  4  Class number:  0\n",
            "Best:  7.274037599563599  Culture number:  4  Class number:  0\n",
            "Best:  9.663975238800049  Culture number:  4  Class number:  0\n",
            "Best:  35.91751158237457  Culture number:  4  Class number:  0\n",
            "Best:  55.562472343444824  Culture number:  4  Class number:  0\n",
            "Best:  66.09362959861755  Culture number:  4  Class number:  0\n",
            "Best:  80.51600456237793  Culture number:  4  Class number:  0\n",
            "Best:  84.90130305290222  Culture number:  4  Class number:  0\n",
            "Best:  87.08226084709167  Culture number:  4  Class number:  0\n",
            "Best:  99.33063387870789  Culture number:  4  Class number:  0\n",
            "Best:  3.7975307554006577  Culture number:  5  Class number:  0\n",
            "Best:  8.2046739757061  Culture number:  5  Class number:  0\n",
            "Best:  11.724793910980225  Culture number:  5  Class number:  0\n",
            "Best:  25.608977675437927  Culture number:  5  Class number:  0\n",
            "Best:  25.608977675437927  Culture number:  5  Class number:  0\n",
            "Best:  40.7345175743103  Culture number:  5  Class number:  0\n",
            "Best:  40.7345175743103  Culture number:  5  Class number:  0\n",
            "Best:  43.308284878730774  Culture number:  5  Class number:  0\n",
            "Best:  93.05541515350342  Culture number:  5  Class number:  0\n",
            "Best:  96.6947078704834  Culture number:  5  Class number:  0\n",
            "Best:  99.39901828765869  Culture number:  5  Class number:  0\n",
            "Best:  3.7975307554006577  Culture number:  6  Class number:  0\n",
            "Best:  4.045318067073822  Culture number:  6  Class number:  0\n",
            "Best:  76.96850895881653  Culture number:  6  Class number:  0\n",
            "Best:  92.7125871181488  Culture number:  6  Class number:  0\n",
            "Best:  92.7125871181488  Culture number:  6  Class number:  0\n",
            "Best:  95.03324031829834  Culture number:  6  Class number:  0\n",
            "Best:  97.87012338638306  Culture number:  6  Class number:  0\n",
            "Best:  98.48551154136658  Culture number:  6  Class number:  0\n",
            "Best:  99.34521913528442  Culture number:  6  Class number:  0\n",
            "Best:  3.7975307554006577  Culture number:  7  Class number:  0\n",
            "Best:  4.122018069028854  Culture number:  7  Class number:  0\n",
            "Best:  8.550649136304855  Culture number:  7  Class number:  0\n",
            "Best:  8.550649136304855  Culture number:  7  Class number:  0\n",
            "Best:  10.128950327634811  Culture number:  7  Class number:  0\n",
            "Best:  18.514327704906464  Culture number:  7  Class number:  0\n",
            "Best:  64.46351408958435  Culture number:  7  Class number:  0\n",
            "Best:  66.86323285102844  Culture number:  7  Class number:  0\n",
            "Best:  86.62645816802979  Culture number:  7  Class number:  0\n",
            "Best:  94.97315883636475  Culture number:  7  Class number:  0\n",
            "Best:  99.92396831512451  Culture number:  7  Class number:  0\n",
            "Best:  3.7975307554006577  Culture number:  8  Class number:  0\n",
            "Best:  7.015028595924377  Culture number:  8  Class number:  0\n",
            "Best:  7.015028595924377  Culture number:  8  Class number:  0\n",
            "Best:  7.015028595924377  Culture number:  8  Class number:  0\n",
            "Best:  7.015028595924377  Culture number:  8  Class number:  0\n",
            "Best:  8.615060895681381  Culture number:  8  Class number:  0\n",
            "Best:  14.12741243839264  Culture number:  8  Class number:  0\n",
            "Best:  21.510539948940277  Culture number:  8  Class number:  0\n",
            "Best:  52.63896584510803  Culture number:  8  Class number:  0\n",
            "Best:  92.65311360359192  Culture number:  8  Class number:  0\n",
            "Best:  97.36834168434143  Culture number:  8  Class number:  0\n",
            "Best:  99.96057152748108  Culture number:  8  Class number:  0\n",
            "Best:  3.7975307554006577  Culture number:  9  Class number:  0\n",
            "Best:  10.229344666004181  Culture number:  9  Class number:  0\n",
            "Best:  10.229344666004181  Culture number:  9  Class number:  0\n",
            "Best:  10.229344666004181  Culture number:  9  Class number:  0\n",
            "Best:  14.608244597911835  Culture number:  9  Class number:  0\n",
            "Best:  16.60946160554886  Culture number:  9  Class number:  0\n",
            "Best:  16.988174617290497  Culture number:  9  Class number:  0\n",
            "Best:  23.892758786678314  Culture number:  9  Class number:  0\n",
            "Best:  23.892758786678314  Culture number:  9  Class number:  0\n",
            "Best:  23.892758786678314  Culture number:  9  Class number:  0\n",
            "Best:  66.65916442871094  Culture number:  9  Class number:  0\n",
            "Best:  79.81926202774048  Culture number:  9  Class number:  0\n",
            "Best:  81.12040162086487  Culture number:  9  Class number:  0\n",
            "Best:  99.04340505599976  Culture number:  9  Class number:  0\n",
            "Best:  3.7975307554006577  Culture number:  10  Class number:  0\n",
            "Best:  6.297563016414642  Culture number:  10  Class number:  0\n",
            "Best:  11.535051465034485  Culture number:  10  Class number:  0\n",
            "Best:  18.357037007808685  Culture number:  10  Class number:  0\n",
            "Best:  18.357037007808685  Culture number:  10  Class number:  0\n",
            "Best:  18.865980207920074  Culture number:  10  Class number:  0\n",
            "Best:  26.967713236808777  Culture number:  10  Class number:  0\n",
            "Best:  26.967713236808777  Culture number:  10  Class number:  0\n",
            "Best:  35.804012417793274  Culture number:  10  Class number:  0\n",
            "Best:  59.018588066101074  Culture number:  10  Class number:  0\n",
            "Best:  59.018588066101074  Culture number:  10  Class number:  0\n",
            "Best:  59.018588066101074  Culture number:  10  Class number:  0\n",
            "Best:  63.19207549095154  Culture number:  10  Class number:  0\n",
            "Best:  69.26903128623962  Culture number:  10  Class number:  0\n",
            "Best:  92.27945804595947  Culture number:  10  Class number:  0\n",
            "Best:  94.00511980056763  Culture number:  10  Class number:  0\n",
            "Best:  94.29389238357544  Culture number:  10  Class number:  0\n",
            "Best:  96.84123992919922  Culture number:  10  Class number:  0\n",
            "Best:  98.8654613494873  Culture number:  10  Class number:  0\n",
            "Best:  98.8654613494873  Culture number:  10  Class number:  0\n",
            "Best:  98.8654613494873  Culture number:  10  Class number:  0\n",
            "Best:  99.08425807952881  Culture number:  10  Class number:  0\n",
            "Best:  3.7975307554006577  Culture number:  11  Class number:  0\n",
            "Best:  4.134536162018776  Culture number:  11  Class number:  0\n",
            "Best:  4.159240424633026  Culture number:  11  Class number:  0\n",
            "Best:  6.985461711883545  Culture number:  11  Class number:  0\n",
            "Best:  16.31357967853546  Culture number:  11  Class number:  0\n",
            "Best:  19.142061471939087  Culture number:  11  Class number:  0\n",
            "Best:  24.713028967380524  Culture number:  11  Class number:  0\n",
            "Best:  28.554290533065796  Culture number:  11  Class number:  0\n",
            "Best:  45.395779609680176  Culture number:  11  Class number:  0\n",
            "Best:  85.46432256698608  Culture number:  11  Class number:  0\n",
            "Best:  91.97661876678467  Culture number:  11  Class number:  0\n",
            "Best:  99.75278973579407  Culture number:  11  Class number:  0\n",
            "Best:  3.7975307554006577  Culture number:  12  Class number:  0\n",
            "Best:  4.750356823205948  Culture number:  12  Class number:  0\n",
            "Best:  6.483538448810577  Culture number:  12  Class number:  0\n",
            "Best:  6.483538448810577  Culture number:  12  Class number:  0\n",
            "Best:  15.847556293010712  Culture number:  12  Class number:  0\n",
            "Best:  15.847556293010712  Culture number:  12  Class number:  0\n",
            "Best:  71.23667001724243  Culture number:  12  Class number:  0\n",
            "Best:  94.05862092971802  Culture number:  12  Class number:  0\n",
            "Best:  94.05862092971802  Culture number:  12  Class number:  0\n",
            "Best:  95.47064304351807  Culture number:  12  Class number:  0\n",
            "Best:  98.38010668754578  Culture number:  12  Class number:  0\n",
            "Best:  98.41212034225464  Culture number:  12  Class number:  0\n",
            "Best:  98.97189140319824  Culture number:  12  Class number:  0\n",
            "Best:  99.19575452804565  Culture number:  12  Class number:  0\n",
            "Best:  3.7975307554006577  Culture number:  13  Class number:  0\n",
            "Best:  6.4373694360256195  Culture number:  13  Class number:  0\n",
            "Best:  7.332570850849152  Culture number:  13  Class number:  0\n",
            "Best:  16.175293922424316  Culture number:  13  Class number:  0\n",
            "Best:  21.21666669845581  Culture number:  13  Class number:  0\n",
            "Best:  56.299006938934326  Culture number:  13  Class number:  0\n",
            "Best:  61.48310303688049  Culture number:  13  Class number:  0\n",
            "Best:  71.29437327384949  Culture number:  13  Class number:  0\n",
            "Best:  90.38546085357666  Culture number:  13  Class number:  0\n",
            "Best:  96.93107604980469  Culture number:  13  Class number:  0\n",
            "Best:  96.93107604980469  Culture number:  13  Class number:  0\n",
            "Best:  99.87107515335083  Culture number:  13  Class number:  0\n",
            "Best:  3.7975307554006577  Culture number:  14  Class number:  0\n",
            "Best:  11.973226070404053  Culture number:  14  Class number:  0\n",
            "Best:  11.973226070404053  Culture number:  14  Class number:  0\n",
            "Best:  57.80004858970642  Culture number:  14  Class number:  0\n",
            "Best:  65.26211500167847  Culture number:  14  Class number:  0\n",
            "Best:  91.84918403625488  Culture number:  14  Class number:  0\n",
            "Best:  96.13032341003418  Culture number:  14  Class number:  0\n",
            "Best:  99.75008368492126  Culture number:  14  Class number:  0\n",
            "Best:  3.7975307554006577  Culture number:  15  Class number:  0\n",
            "Best:  4.468195512890816  Culture number:  15  Class number:  0\n",
            "Best:  4.468195512890816  Culture number:  15  Class number:  0\n",
            "Best:  5.39172850549221  Culture number:  15  Class number:  0\n",
            "Best:  5.639810115098953  Culture number:  15  Class number:  0\n",
            "Best:  6.323768198490143  Culture number:  15  Class number:  0\n",
            "Best:  8.071350306272507  Culture number:  15  Class number:  0\n",
            "Best:  16.859811544418335  Culture number:  15  Class number:  0\n",
            "Best:  16.859811544418335  Culture number:  15  Class number:  0\n",
            "Best:  49.13482666015625  Culture number:  15  Class number:  0\n",
            "Best:  63.946640491485596  Culture number:  15  Class number:  0\n",
            "Best:  79.86409068107605  Culture number:  15  Class number:  0\n",
            "Best:  79.86409068107605  Culture number:  15  Class number:  0\n",
            "Best:  89.4229531288147  Culture number:  15  Class number:  0\n",
            "Best:  94.90442872047424  Culture number:  15  Class number:  0\n",
            "Best:  97.62428998947144  Culture number:  15  Class number:  0\n",
            "Best:  98.64022135734558  Culture number:  15  Class number:  0\n",
            "Best:  98.64022135734558  Culture number:  15  Class number:  0\n",
            "Best:  99.1398572921753  Culture number:  15  Class number:  0\n",
            "Best:  3.7975307554006577  Culture number:  16  Class number:  0\n",
            "Best:  3.7975307554006577  Culture number:  16  Class number:  0\n",
            "Best:  4.055630415678024  Culture number:  16  Class number:  0\n",
            "Best:  4.055630415678024  Culture number:  16  Class number:  0\n",
            "Best:  51.692742109298706  Culture number:  16  Class number:  0\n",
            "Best:  51.692742109298706  Culture number:  16  Class number:  0\n",
            "Best:  82.93604850769043  Culture number:  16  Class number:  0\n",
            "Best:  91.58486723899841  Culture number:  16  Class number:  0\n",
            "Best:  96.7155396938324  Culture number:  16  Class number:  0\n",
            "Best:  98.58147501945496  Culture number:  16  Class number:  0\n",
            "Best:  98.58147501945496  Culture number:  16  Class number:  0\n",
            "Best:  99.77891445159912  Culture number:  16  Class number:  0\n",
            "Best:  3.7975307554006577  Culture number:  17  Class number:  0\n",
            "Best:  3.7975307554006577  Culture number:  17  Class number:  0\n",
            "Best:  3.7975307554006577  Culture number:  17  Class number:  0\n",
            "Best:  4.1146885603666306  Culture number:  17  Class number:  0\n",
            "Best:  8.884412050247192  Culture number:  17  Class number:  0\n",
            "Best:  20.09432762861252  Culture number:  17  Class number:  0\n",
            "Best:  20.09432762861252  Culture number:  17  Class number:  0\n",
            "Best:  29.23762798309326  Culture number:  17  Class number:  0\n",
            "Best:  65.58210849761963  Culture number:  17  Class number:  0\n",
            "Best:  81.92757964134216  Culture number:  17  Class number:  0\n",
            "Best:  97.79552817344666  Culture number:  17  Class number:  0\n",
            "Best:  97.79552817344666  Culture number:  17  Class number:  0\n",
            "Best:  99.40770864486694  Culture number:  17  Class number:  0\n",
            "Best:  3.7975307554006577  Culture number:  18  Class number:  0\n",
            "Best:  4.243439808487892  Culture number:  18  Class number:  0\n",
            "Best:  4.243439808487892  Culture number:  18  Class number:  0\n",
            "Best:  4.243439808487892  Culture number:  18  Class number:  0\n",
            "Best:  5.870205536484718  Culture number:  18  Class number:  0\n",
            "Best:  7.545516639947891  Culture number:  18  Class number:  0\n",
            "Best:  81.4135730266571  Culture number:  18  Class number:  0\n",
            "Best:  85.3590190410614  Culture number:  18  Class number:  0\n",
            "Best:  88.93990516662598  Culture number:  18  Class number:  0\n",
            "Best:  88.93990516662598  Culture number:  18  Class number:  0\n",
            "Best:  91.21403098106384  Culture number:  18  Class number:  0\n",
            "Best:  91.21403098106384  Culture number:  18  Class number:  0\n",
            "Best:  91.21403098106384  Culture number:  18  Class number:  0\n",
            "Best:  91.21403098106384  Culture number:  18  Class number:  0\n",
            "Best:  92.6073670387268  Culture number:  18  Class number:  0\n",
            "Best:  92.6073670387268  Culture number:  18  Class number:  0\n",
            "Best:  99.96364116668701  Culture number:  18  Class number:  0\n",
            "Best:  3.7975307554006577  Culture number:  19  Class number:  0\n",
            "Best:  6.866808980703354  Culture number:  19  Class number:  0\n",
            "Best:  6.866808980703354  Culture number:  19  Class number:  0\n",
            "Best:  7.6691582798957825  Culture number:  19  Class number:  0\n",
            "Best:  11.624835431575775  Culture number:  19  Class number:  0\n",
            "Best:  13.705356419086456  Culture number:  19  Class number:  0\n",
            "Best:  16.21134579181671  Culture number:  19  Class number:  0\n",
            "Best:  24.779847264289856  Culture number:  19  Class number:  0\n",
            "Best:  31.39757812023163  Culture number:  19  Class number:  0\n",
            "Best:  43.51062774658203  Culture number:  19  Class number:  0\n",
            "Best:  47.48205840587616  Culture number:  19  Class number:  0\n",
            "Best:  50.53476095199585  Culture number:  19  Class number:  0\n",
            "Best:  50.53476095199585  Culture number:  19  Class number:  0\n",
            "Best:  50.53476095199585  Culture number:  19  Class number:  0\n",
            "Best:  59.73259210586548  Culture number:  19  Class number:  0\n",
            "Best:  78.38837504386902  Culture number:  19  Class number:  0\n",
            "Best:  86.93980574607849  Culture number:  19  Class number:  0\n",
            "Best:  86.93980574607849  Culture number:  19  Class number:  0\n",
            "Best:  89.80584740638733  Culture number:  19  Class number:  0\n",
            "Best:  93.59254240989685  Culture number:  19  Class number:  0\n",
            "Best:  93.59254240989685  Culture number:  19  Class number:  0\n",
            "Best:  97.44375348091125  Culture number:  19  Class number:  0\n",
            "Best:  97.44375348091125  Culture number:  19  Class number:  0\n",
            "Best:  98.54469299316406  Culture number:  19  Class number:  0\n",
            "Best:  99.603670835495  Culture number:  19  Class number:  0\n",
            "Best:  3.7975307554006577  Culture number:  20  Class number:  0\n",
            "Best:  3.7975307554006577  Culture number:  20  Class number:  0\n",
            "Best:  10.753504186868668  Culture number:  20  Class number:  0\n",
            "Best:  92.73943305015564  Culture number:  20  Class number:  0\n",
            "Best:  99.70001578330994  Culture number:  20  Class number:  0\n",
            "Best:  3.7975307554006577  Culture number:  21  Class number:  0\n",
            "Best:  9.432093054056168  Culture number:  21  Class number:  0\n",
            "Best:  9.432093054056168  Culture number:  21  Class number:  0\n",
            "Best:  31.070956587791443  Culture number:  21  Class number:  0\n",
            "Best:  67.6157295703888  Culture number:  21  Class number:  0\n",
            "Best:  67.6157295703888  Culture number:  21  Class number:  0\n",
            "Best:  91.65109992027283  Culture number:  21  Class number:  0\n",
            "Best:  92.05232858657837  Culture number:  21  Class number:  0\n",
            "Best:  99.38433170318604  Culture number:  21  Class number:  0\n",
            "Best:  3.7975307554006577  Culture number:  22  Class number:  0\n",
            "Best:  13.075409829616547  Culture number:  22  Class number:  0\n",
            "Best:  13.075409829616547  Culture number:  22  Class number:  0\n",
            "Best:  21.21422290802002  Culture number:  22  Class number:  0\n",
            "Best:  22.19122052192688  Culture number:  22  Class number:  0\n",
            "Best:  32.75619447231293  Culture number:  22  Class number:  0\n",
            "Best:  32.75619447231293  Culture number:  22  Class number:  0\n",
            "Best:  50.05437135696411  Culture number:  22  Class number:  0\n",
            "Best:  64.00414705276489  Culture number:  22  Class number:  0\n",
            "Best:  64.00414705276489  Culture number:  22  Class number:  0\n",
            "Best:  66.136634349823  Culture number:  22  Class number:  0\n",
            "Best:  80.78591823577881  Culture number:  22  Class number:  0\n",
            "Best:  81.38864636421204  Culture number:  22  Class number:  0\n",
            "Best:  95.2504575252533  Culture number:  22  Class number:  0\n",
            "Best:  98.98086786270142  Culture number:  22  Class number:  0\n",
            "Best:  99.9224066734314  Culture number:  22  Class number:  0\n",
            "Best:  3.7975307554006577  Culture number:  23  Class number:  0\n",
            "Best:  3.7975307554006577  Culture number:  23  Class number:  0\n",
            "Best:  3.7975307554006577  Culture number:  23  Class number:  0\n",
            "Best:  7.703607529401779  Culture number:  23  Class number:  0\n",
            "Best:  7.703607529401779  Culture number:  23  Class number:  0\n",
            "Best:  23.04362803697586  Culture number:  23  Class number:  0\n",
            "Best:  23.04362803697586  Culture number:  23  Class number:  0\n",
            "Best:  30.48456907272339  Culture number:  23  Class number:  0\n",
            "Best:  36.89035177230835  Culture number:  23  Class number:  0\n",
            "Best:  98.03038239479065  Culture number:  23  Class number:  0\n",
            "Best:  98.03038239479065  Culture number:  23  Class number:  0\n",
            "Best:  98.2871413230896  Culture number:  23  Class number:  0\n",
            "Best:  98.95414710044861  Culture number:  23  Class number:  0\n",
            "Best:  99.98505115509033  Culture number:  23  Class number:  0\n",
            "Best:  3.7975307554006577  Culture number:  24  Class number:  0\n",
            "Best:  17.373771965503693  Culture number:  24  Class number:  0\n",
            "Best:  26.094183325767517  Culture number:  24  Class number:  0\n",
            "Best:  67.34161376953125  Culture number:  24  Class number:  0\n",
            "Best:  97.9977011680603  Culture number:  24  Class number:  0\n",
            "Best:  99.71014857292175  Culture number:  24  Class number:  0\n",
            "Best:  3.7975307554006577  Culture number:  25  Class number:  0\n",
            "Best:  3.7975307554006577  Culture number:  25  Class number:  0\n",
            "Best:  7.667842507362366  Culture number:  25  Class number:  0\n",
            "Best:  20.532280206680298  Culture number:  25  Class number:  0\n",
            "Best:  20.532280206680298  Culture number:  25  Class number:  0\n",
            "Best:  20.532280206680298  Culture number:  25  Class number:  0\n",
            "Best:  20.532280206680298  Culture number:  25  Class number:  0\n",
            "Best:  31.463372707366943  Culture number:  25  Class number:  0\n",
            "Best:  40.00502526760101  Culture number:  25  Class number:  0\n",
            "Best:  50.910526514053345  Culture number:  25  Class number:  0\n",
            "Best:  73.72062802314758  Culture number:  25  Class number:  0\n",
            "Best:  93.70195865631104  Culture number:  25  Class number:  0\n",
            "Best:  96.66103720664978  Culture number:  25  Class number:  0\n",
            "Best:  96.72594666481018  Culture number:  25  Class number:  0\n",
            "Best:  99.45858716964722  Culture number:  25  Class number:  0\n",
            "Best:  3.7975307554006577  Culture number:  26  Class number:  0\n",
            "Best:  4.038219153881073  Culture number:  26  Class number:  0\n",
            "Best:  7.093743234872818  Culture number:  26  Class number:  0\n",
            "Best:  9.543181955814362  Culture number:  26  Class number:  0\n",
            "Best:  10.988238453865051  Culture number:  26  Class number:  0\n",
            "Best:  20.712916553020477  Culture number:  26  Class number:  0\n",
            "Best:  22.831991314888  Culture number:  26  Class number:  0\n",
            "Best:  29.80697453022003  Culture number:  26  Class number:  0\n",
            "Best:  64.64085578918457  Culture number:  26  Class number:  0\n",
            "Best:  88.40056657791138  Culture number:  26  Class number:  0\n",
            "Best:  99.29680228233337  Culture number:  26  Class number:  0\n",
            "Best:  3.7975307554006577  Culture number:  27  Class number:  0\n",
            "Best:  5.803236737847328  Culture number:  27  Class number:  0\n",
            "Best:  5.803236737847328  Culture number:  27  Class number:  0\n",
            "Best:  5.803236737847328  Culture number:  27  Class number:  0\n",
            "Best:  9.975598007440567  Culture number:  27  Class number:  0\n",
            "Best:  49.65284466743469  Culture number:  27  Class number:  0\n",
            "Best:  49.65284466743469  Culture number:  27  Class number:  0\n",
            "Best:  83.57924222946167  Culture number:  27  Class number:  0\n",
            "Best:  83.57924222946167  Culture number:  27  Class number:  0\n",
            "Best:  95.11756300926208  Culture number:  27  Class number:  0\n",
            "Best:  98.08595180511475  Culture number:  27  Class number:  0\n",
            "Best:  99.54484105110168  Culture number:  27  Class number:  0\n",
            "Best:  3.7975307554006577  Culture number:  28  Class number:  0\n",
            "Best:  3.7975307554006577  Culture number:  28  Class number:  0\n",
            "Best:  3.7975307554006577  Culture number:  28  Class number:  0\n",
            "Best:  22.66504168510437  Culture number:  28  Class number:  0\n",
            "Best:  34.00019407272339  Culture number:  28  Class number:  0\n",
            "Best:  57.897210121154785  Culture number:  28  Class number:  0\n",
            "Best:  57.897210121154785  Culture number:  28  Class number:  0\n",
            "Best:  69.35351490974426  Culture number:  28  Class number:  0\n",
            "Best:  84.0925931930542  Culture number:  28  Class number:  0\n",
            "Best:  84.0925931930542  Culture number:  28  Class number:  0\n",
            "Best:  84.81636047363281  Culture number:  28  Class number:  0\n",
            "Best:  92.3213541507721  Culture number:  28  Class number:  0\n",
            "Best:  92.3213541507721  Culture number:  28  Class number:  0\n",
            "Best:  96.19686603546143  Culture number:  28  Class number:  0\n",
            "Best:  97.60681390762329  Culture number:  28  Class number:  0\n",
            "Best:  97.60681390762329  Culture number:  28  Class number:  0\n",
            "Best:  99.11298751831055  Culture number:  28  Class number:  0\n",
            "Best:  3.7975307554006577  Culture number:  29  Class number:  0\n",
            "Best:  4.098384082317352  Culture number:  29  Class number:  0\n",
            "Best:  4.639961943030357  Culture number:  29  Class number:  0\n",
            "Best:  4.639961943030357  Culture number:  29  Class number:  0\n",
            "Best:  5.932946130633354  Culture number:  29  Class number:  0\n",
            "Best:  20.391060411930084  Culture number:  29  Class number:  0\n",
            "Best:  20.391060411930084  Culture number:  29  Class number:  0\n",
            "Best:  28.373250365257263  Culture number:  29  Class number:  0\n",
            "Best:  29.60345149040222  Culture number:  29  Class number:  0\n",
            "Best:  43.1735634803772  Culture number:  29  Class number:  0\n",
            "Best:  60.676783323287964  Culture number:  29  Class number:  0\n",
            "Best:  98.67841005325317  Culture number:  29  Class number:  0\n",
            "Best:  99.43221807479858  Culture number:  29  Class number:  0\n",
            "Generated data:  (480, 28, 28)\n",
            "Training data shape:  (480, 28, 28)\n",
            "Training labels shape:  (480, 20)\n",
            "Class number:  1\n",
            "Best:  4.634218290448189  Culture number:  0  Class number:  1\n",
            "Best:  5.06189726293087  Culture number:  0  Class number:  1\n",
            "Best:  6.138522922992706  Culture number:  0  Class number:  1\n",
            "Best:  12.16776967048645  Culture number:  0  Class number:  1\n",
            "Best:  12.16776967048645  Culture number:  0  Class number:  1\n",
            "Best:  12.16776967048645  Culture number:  0  Class number:  1\n",
            "Best:  12.16776967048645  Culture number:  0  Class number:  1\n",
            "Best:  12.496672570705414  Culture number:  0  Class number:  1\n",
            "Best:  13.150304555892944  Culture number:  0  Class number:  1\n",
            "Best:  13.150304555892944  Culture number:  0  Class number:  1\n",
            "Best:  13.150304555892944  Culture number:  0  Class number:  1\n",
            "Best:  13.150304555892944  Culture number:  0  Class number:  1\n",
            "Best:  13.150304555892944  Culture number:  0  Class number:  1\n",
            "Best:  13.150304555892944  Culture number:  0  Class number:  1\n",
            "Best:  13.150304555892944  Culture number:  0  Class number:  1\n",
            "Best:  13.150304555892944  Culture number:  0  Class number:  1\n",
            "Best:  13.150304555892944  Culture number:  0  Class number:  1\n",
            "Best:  13.643412292003632  Culture number:  0  Class number:  1\n",
            "Best:  13.643412292003632  Culture number:  0  Class number:  1\n",
            "Best:  13.643412292003632  Culture number:  0  Class number:  1\n",
            "Best:  14.222097396850586  Culture number:  0  Class number:  1\n",
            "Best:  14.222097396850586  Culture number:  0  Class number:  1\n",
            "Best:  14.222097396850586  Culture number:  0  Class number:  1\n",
            "Best:  14.222097396850586  Culture number:  0  Class number:  1\n",
            "Best:  14.222097396850586  Culture number:  0  Class number:  1\n",
            "Best:  14.222097396850586  Culture number:  0  Class number:  1\n",
            "Best:  14.222097396850586  Culture number:  0  Class number:  1\n",
            "Best:  14.222097396850586  Culture number:  0  Class number:  1\n",
            "Best:  14.222097396850586  Culture number:  0  Class number:  1\n",
            "Best:  23.845751583576202  Culture number:  0  Class number:  1\n",
            "Best:  23.845751583576202  Culture number:  0  Class number:  1\n",
            "Best:  23.845751583576202  Culture number:  0  Class number:  1\n",
            "Best:  29.370006918907166  Culture number:  0  Class number:  1\n",
            "Best:  46.56675457954407  Culture number:  0  Class number:  1\n",
            "Best:  46.56675457954407  Culture number:  0  Class number:  1\n",
            "Best:  60.4814887046814  Culture number:  0  Class number:  1\n",
            "Best:  60.4814887046814  Culture number:  0  Class number:  1\n",
            "Best:  60.4814887046814  Culture number:  0  Class number:  1\n",
            "Best:  60.4814887046814  Culture number:  0  Class number:  1\n",
            "Best:  60.4814887046814  Culture number:  0  Class number:  1\n",
            "Best:  60.675203800201416  Culture number:  0  Class number:  1\n",
            "Best:  64.23299312591553  Culture number:  0  Class number:  1\n",
            "Best:  64.23299312591553  Culture number:  0  Class number:  1\n",
            "Best:  73.95219802856445  Culture number:  0  Class number:  1\n",
            "Best:  73.95219802856445  Culture number:  0  Class number:  1\n",
            "Best:  73.95219802856445  Culture number:  0  Class number:  1\n",
            "Best:  75.91893672943115  Culture number:  0  Class number:  1\n",
            "Best:  75.91893672943115  Culture number:  0  Class number:  1\n",
            "Best:  75.91893672943115  Culture number:  0  Class number:  1\n",
            "Best:  90.11682868003845  Culture number:  0  Class number:  1\n",
            "Best:  90.21602272987366  Culture number:  0  Class number:  1\n",
            "Best:  90.21602272987366  Culture number:  0  Class number:  1\n",
            "Best:  90.21602272987366  Culture number:  0  Class number:  1\n",
            "Best:  94.41919326782227  Culture number:  0  Class number:  1\n",
            "Best:  94.41919326782227  Culture number:  0  Class number:  1\n",
            "Best:  94.41919326782227  Culture number:  0  Class number:  1\n",
            "Best:  94.83153820037842  Culture number:  0  Class number:  1\n",
            "Best:  96.20888829231262  Culture number:  0  Class number:  1\n",
            "Best:  99.72957968711853  Culture number:  0  Class number:  1\n",
            "Best:  4.634218290448189  Culture number:  1  Class number:  1\n",
            "Best:  4.634218290448189  Culture number:  1  Class number:  1\n",
            "Best:  5.445311218500137  Culture number:  1  Class number:  1\n"
          ],
          "name": "stdout"
        },
        {
          "output_type": "error",
          "ename": "KeyboardInterrupt",
          "evalue": "ignored",
          "traceback": [
            "\u001b[0;31m---------------------------------------------------------------------------\u001b[0m",
            "\u001b[0;31mKeyboardInterrupt\u001b[0m                         Traceback (most recent call last)",
            "\u001b[0;32m<ipython-input-29-4571da7abf86>\u001b[0m in \u001b[0;36m<module>\u001b[0;34m()\u001b[0m\n\u001b[1;32m      1\u001b[0m \u001b[0mTARGET_CLASSES\u001b[0m \u001b[0;34m=\u001b[0m \u001b[0;34m[\u001b[0m\u001b[0;36m0\u001b[0m\u001b[0;34m,\u001b[0m\u001b[0;36m1\u001b[0m\u001b[0;34m,\u001b[0m\u001b[0;36m2\u001b[0m\u001b[0;34m,\u001b[0m\u001b[0;36m3\u001b[0m\u001b[0;34m]\u001b[0m\u001b[0;34m\u001b[0m\u001b[0;34m\u001b[0m\u001b[0m\n\u001b[1;32m      2\u001b[0m \u001b[0;31m# synthetic_data = Genetic_data_Generator(model,SHAPE=(784,),TARGET_CLASSES = [0,1,2,3,4],verbose=1,population_size=16,NUMBER_OF_CULTURES = 30,NUMBER_OF_GENERATIONS = 100,MUTATION_PROBABILITY = 0.1,MUTATION_TYPE = \"+\")\u001b[0m\u001b[0;34m\u001b[0m\u001b[0;34m\u001b[0m\u001b[0;34m\u001b[0m\u001b[0m\n\u001b[0;32m----> 3\u001b[0;31m \u001b[0msynthetic_data\u001b[0m \u001b[0;34m=\u001b[0m \u001b[0mGenetic_data_Generator\u001b[0m\u001b[0;34m(\u001b[0m\u001b[0mmodel\u001b[0m\u001b[0;34m,\u001b[0m\u001b[0mSHAPE\u001b[0m\u001b[0;34m=\u001b[0m\u001b[0;34m(\u001b[0m\u001b[0;36m28\u001b[0m\u001b[0;34m,\u001b[0m\u001b[0;36m28\u001b[0m\u001b[0;34m)\u001b[0m\u001b[0;34m,\u001b[0m\u001b[0mTARGET_CLASSES\u001b[0m \u001b[0;34m=\u001b[0m \u001b[0;34m[\u001b[0m\u001b[0;36m0\u001b[0m\u001b[0;34m,\u001b[0m\u001b[0;36m1\u001b[0m\u001b[0;34m,\u001b[0m\u001b[0;36m2\u001b[0m\u001b[0;34m,\u001b[0m\u001b[0;36m3\u001b[0m\u001b[0;34m,\u001b[0m\u001b[0;36m4\u001b[0m\u001b[0;34m]\u001b[0m\u001b[0;34m,\u001b[0m\u001b[0mverbose\u001b[0m\u001b[0;34m=\u001b[0m\u001b[0;36m1\u001b[0m\u001b[0;34m,\u001b[0m\u001b[0mpopulation_size\u001b[0m\u001b[0;34m=\u001b[0m\u001b[0;36m16\u001b[0m\u001b[0;34m,\u001b[0m\u001b[0mNUMBER_OF_CULTURES\u001b[0m \u001b[0;34m=\u001b[0m \u001b[0;36m30\u001b[0m\u001b[0;34m,\u001b[0m\u001b[0mNUMBER_OF_GENERATIONS\u001b[0m \u001b[0;34m=\u001b[0m \u001b[0;36m100\u001b[0m\u001b[0;34m,\u001b[0m\u001b[0mMUTATION_PROBABILITY\u001b[0m \u001b[0;34m=\u001b[0m \u001b[0;36m0.1\u001b[0m\u001b[0;34m,\u001b[0m\u001b[0mMUTATION_TYPE\u001b[0m \u001b[0;34m=\u001b[0m \u001b[0;34m\"+\"\u001b[0m\u001b[0;34m)\u001b[0m\u001b[0;34m\u001b[0m\u001b[0;34m\u001b[0m\u001b[0m\n\u001b[0m",
            "\u001b[0;32m/content/Genetic_Rehearsal.py\u001b[0m in \u001b[0;36mGenetic_data_Generator\u001b[0;34m(model, SHAPE, TARGET_CLASSES, verbose, population_size, NUMBER_OF_CULTURES, NUMBER_OF_GENERATIONS, MUTATION_PROBABILITY, MUTATION_TYPE)\u001b[0m\n\u001b[1;32m    355\u001b[0m                 \u001b[0;32mfor\u001b[0m \u001b[0mtemp\u001b[0m \u001b[0;32min\u001b[0m \u001b[0mrange\u001b[0m\u001b[0;34m(\u001b[0m\u001b[0;34m(\u001b[0m\u001b[0mint\u001b[0m\u001b[0;34m(\u001b[0m\u001b[0mpopulation_size\u001b[0m\u001b[0;34m*\u001b[0m\u001b[0;36m0.75\u001b[0m\u001b[0;34m)\u001b[0m\u001b[0;34m)\u001b[0m\u001b[0;34m,\u001b[0m\u001b[0mpopulation_size\u001b[0m\u001b[0;34m)\u001b[0m\u001b[0;34m:\u001b[0m\u001b[0;34m\u001b[0m\u001b[0;34m\u001b[0m\u001b[0m\n\u001b[1;32m    356\u001b[0m                     \u001b[0;32mif\u001b[0m \u001b[0mtemp\u001b[0m\u001b[0;34m%\u001b[0m\u001b[0;36m2\u001b[0m \u001b[0;34m==\u001b[0m \u001b[0;36m0\u001b[0m\u001b[0;34m:\u001b[0m\u001b[0;34m\u001b[0m\u001b[0;34m\u001b[0m\u001b[0m\n\u001b[0;32m--> 357\u001b[0;31m                         \u001b[0mcrossover\u001b[0m\u001b[0;34m(\u001b[0m\u001b[0mcurrent_generation\u001b[0m\u001b[0;34m[\u001b[0m\u001b[0mtemp\u001b[0m\u001b[0;34m]\u001b[0m\u001b[0;34m,\u001b[0m\u001b[0mcurrent_generation\u001b[0m\u001b[0;34m[\u001b[0m\u001b[0mtemp\u001b[0m\u001b[0;34m+\u001b[0m\u001b[0;36m1\u001b[0m\u001b[0;34m]\u001b[0m\u001b[0;34m,\u001b[0m\u001b[0mint\u001b[0m\u001b[0;34m(\u001b[0m\u001b[0;34m(\u001b[0m\u001b[0mcurrent_generation\u001b[0m\u001b[0;34m[\u001b[0m\u001b[0mtemp\u001b[0m\u001b[0;34m]\u001b[0m\u001b[0;34m.\u001b[0m\u001b[0mshape\u001b[0m\u001b[0;34m)\u001b[0m\u001b[0;34m[\u001b[0m\u001b[0;36m0\u001b[0m\u001b[0;34m]\u001b[0m\u001b[0;34m/\u001b[0m\u001b[0;36m2\u001b[0m\u001b[0;34m)\u001b[0m\u001b[0;34m)\u001b[0m\u001b[0;34m\u001b[0m\u001b[0;34m\u001b[0m\u001b[0m\n\u001b[0m\u001b[1;32m    358\u001b[0m \u001b[0;34m\u001b[0m\u001b[0m\n\u001b[1;32m    359\u001b[0m             \u001b[0;34m''' Adding a culture after reaching the stopping criteria to the final dataset'''\u001b[0m\u001b[0;34m\u001b[0m\u001b[0;34m\u001b[0m\u001b[0m\n",
            "\u001b[0;32m/content/Genetic_Rehearsal.py\u001b[0m in \u001b[0;36mcrossover\u001b[0;34m(first_gene, second_gene, index)\u001b[0m\n\u001b[1;32m      9\u001b[0m \u001b[0;32mdef\u001b[0m \u001b[0mcrossover\u001b[0m\u001b[0;34m(\u001b[0m\u001b[0mfirst_gene\u001b[0m\u001b[0;34m,\u001b[0m\u001b[0msecond_gene\u001b[0m\u001b[0;34m,\u001b[0m\u001b[0mindex\u001b[0m\u001b[0;34m)\u001b[0m\u001b[0;34m:\u001b[0m\u001b[0;34m\u001b[0m\u001b[0;34m\u001b[0m\u001b[0m\n\u001b[1;32m     10\u001b[0m   \u001b[0mtemp\u001b[0m \u001b[0;34m=\u001b[0m \u001b[0mnp\u001b[0m\u001b[0;34m.\u001b[0m\u001b[0mcopy\u001b[0m\u001b[0;34m(\u001b[0m\u001b[0mfirst_gene\u001b[0m\u001b[0;34m[\u001b[0m\u001b[0mindex\u001b[0m\u001b[0;34m:\u001b[0m\u001b[0;34m]\u001b[0m\u001b[0;34m)\u001b[0m\u001b[0;34m\u001b[0m\u001b[0;34m\u001b[0m\u001b[0m\n\u001b[0;32m---> 11\u001b[0;31m   \u001b[0mfirst_gene\u001b[0m\u001b[0;34m[\u001b[0m\u001b[0mindex\u001b[0m\u001b[0;34m:\u001b[0m\u001b[0;34m]\u001b[0m \u001b[0;34m=\u001b[0m \u001b[0msecond_gene\u001b[0m\u001b[0;34m[\u001b[0m\u001b[0mindex\u001b[0m\u001b[0;34m:\u001b[0m\u001b[0;34m]\u001b[0m\u001b[0;34m\u001b[0m\u001b[0;34m\u001b[0m\u001b[0m\n\u001b[0m\u001b[1;32m     12\u001b[0m   \u001b[0msecond_gene\u001b[0m\u001b[0;34m[\u001b[0m\u001b[0mindex\u001b[0m\u001b[0;34m:\u001b[0m\u001b[0;34m]\u001b[0m\u001b[0;34m=\u001b[0m\u001b[0mtemp\u001b[0m\u001b[0;34m\u001b[0m\u001b[0;34m\u001b[0m\u001b[0m\n\u001b[1;32m     13\u001b[0m \u001b[0;34m\u001b[0m\u001b[0m\n",
            "\u001b[0;31mKeyboardInterrupt\u001b[0m: "
          ]
        }
      ]
    },
    {
      "cell_type": "code",
      "metadata": {
        "id": "YMdFZh20BkCp"
      },
      "source": [
        "pseudo_x_train_2400 = synthetic_data[0]\n",
        "pseudo_y_train_2400 = synthetic_data[1]"
      ],
      "execution_count": null,
      "outputs": []
    },
    {
      "cell_type": "code",
      "metadata": {
        "id": "d8aj3ef3acdJ"
      },
      "source": [
        "# SANITY CHECK\n",
        "\n",
        "import matplotlib.pyplot as plt\n",
        "\n",
        "count = [0,0,0,0,0,0,0,0,0,0]\n",
        "for i in range(pseudo_x_train_2400.shape[0]):\n",
        "  count[pre_pseudo_y_train_2400[i]]+=1\n",
        "\n",
        "print(count)\n",
        "print(sum(count))\n",
        "\n",
        "plt.bar(range(len(count)),count)\n",
        "plt.show()"
      ],
      "execution_count": null,
      "outputs": []
    },
    {
      "cell_type": "markdown",
      "metadata": {
        "id": "8SOVMbSZM17H"
      },
      "source": [
        "## Enriching the genetic data"
      ]
    },
    {
      "cell_type": "markdown",
      "metadata": {
        "id": "RNu55b1BOoo9"
      },
      "source": [
        "### Enrichment step 1"
      ]
    },
    {
      "cell_type": "code",
      "metadata": {
        "id": "BjYiEZgjT36d",
        "colab": {
          "base_uri": "https://localhost:8080/",
          "height": 121
        },
        "outputId": "f200f66d-2345-4b84-9acd-a2276d19a0f7"
      },
      "source": [
        "help(Enrichment)"
      ],
      "execution_count": null,
      "outputs": [
        {
          "output_type": "stream",
          "text": [
            "Help on function Enrichment in module Genetic_Rehearsal:\n",
            "\n",
            "Enrichment(data, labels, model, NUMBER_OF_CENTERS, NUMBER_OF_CLASSES, NUMBER_OF_SAMPLES, verbose=0)\n",
            "    Enriches the given data by fitting a Gaussian Mixture model with\n",
            "    NUMBER_OF_CENTERS and NUMBER_OF_SAMPLES\n",
            "\n"
          ],
          "name": "stdout"
        }
      ]
    },
    {
      "cell_type": "code",
      "metadata": {
        "id": "C3yWYk_FQuki",
        "colab": {
          "base_uri": "https://localhost:8080/",
          "height": 69
        },
        "outputId": "e89f64a5-e388-4a4e-e8d5-ddf6f9495258"
      },
      "source": [
        "NUMBER_OF_SAMPLES = int(pseudo_x_train_2400.shape[0])*2\n",
        "temp = Enrichment(pseudo_x_train_2400,pseudo_y_train_2400,model,10,20,NUMBER_OF_SAMPLES=NUMBER_OF_SAMPLES)\n",
        "\n",
        "synthetic_data = temp[0]\n",
        "synthetic_labels = temp[1]\n",
        "\n",
        "print(\"Training data shape: \",synthetic_data.shape)\n",
        "print(\"Training labels shape: \",synthetic_labels.shape)"
      ],
      "execution_count": null,
      "outputs": [
        {
          "output_type": "stream",
          "text": [
            "9600/9600 [==============================] - 0s 27us/step\n",
            "Training data shape:  (9600, 784)\n",
            "Training labels shape:  (9600, 20)\n"
          ],
          "name": "stdout"
        }
      ]
    },
    {
      "cell_type": "code",
      "metadata": {
        "id": "SQ1SyAsDFRez"
      },
      "source": [
        "# Sanity check:\n",
        "\n",
        "count = [0,0,0,0,0,0,0,0,0,0]\n",
        "for i in range(temp[2].shape[0]):\n",
        "  count[temp[2][i]] += 1\n",
        "\n",
        "print(count)\n",
        "print(sum(count))\n",
        "\n",
        "plt.bar(range(len(count)),count)\n",
        "plt.show()"
      ],
      "execution_count": null,
      "outputs": []
    },
    {
      "cell_type": "markdown",
      "metadata": {
        "id": "VP0X5ev3MxV-"
      },
      "source": [
        "### Enrichment Step 2"
      ]
    },
    {
      "cell_type": "code",
      "metadata": {
        "id": "uLKA6pjCNJgQ",
        "colab": {
          "base_uri": "https://localhost:8080/",
          "height": 69
        },
        "outputId": "f0475365-fe0e-4d8d-dbc2-dc921341b1a5"
      },
      "source": [
        "NUMBER_OF_SAMPLES = 1000000\n",
        "\n",
        "temp = Enrichment(synthetic_data,synthetic_labels,model,1,20,NUMBER_OF_SAMPLES)\n",
        "\n",
        "new_synthetic_data = temp[0]\n",
        "new_synthetic_labels = temp[1]\n",
        "\n",
        "print(\"Training data shape: \",new_synthetic_data.shape)\n",
        "print(\"Training labels shape: \",new_synthetic_labels.shape)"
      ],
      "execution_count": null,
      "outputs": [
        {
          "output_type": "stream",
          "text": [
            "1000000/1000000 [==============================] - 23s 23us/step\n",
            "Training data shape:  (1000000, 784)\n",
            "Training labels shape:  (1000000, 20)\n"
          ],
          "name": "stdout"
        }
      ]
    },
    {
      "cell_type": "code",
      "metadata": {
        "id": "_h8DwOReeB4w",
        "colab": {
          "base_uri": "https://localhost:8080/",
          "height": 34
        },
        "outputId": "dcf30fa9-12ea-4124-ff68-8b4881bcc42e"
      },
      "source": [
        "pre_new_synthetic = temp[2]\n",
        "\n",
        "print(pre_new_synthetic.shape)"
      ],
      "execution_count": null,
      "outputs": [
        {
          "output_type": "stream",
          "text": [
            "(1000000,)\n"
          ],
          "name": "stdout"
        }
      ]
    },
    {
      "cell_type": "code",
      "metadata": {
        "id": "6Z8KN8vwTWP1"
      },
      "source": [
        "# Sanity check:\n",
        "\n",
        "count = [0,0,0,0,0,0,0,0,0,0]\n",
        "for i in range(temp[2].shape[0]):\n",
        "  count[temp[2][i]] += 1\n",
        "\n",
        "print(count)\n",
        "print(sum(count))\n",
        "\n",
        "plt.bar(range(len(count)),count)\n",
        "plt.show()"
      ],
      "execution_count": null,
      "outputs": []
    },
    {
      "cell_type": "markdown",
      "metadata": {
        "id": "kJe_BFWhQdl8"
      },
      "source": [
        "## Train the model on Genetic data"
      ]
    },
    {
      "cell_type": "code",
      "metadata": {
        "id": "2MPtd1LOQgge"
      },
      "source": [
        "from keras.models import Sequential\n",
        "from keras.layers import Flatten, Dense, Conv2D, Activation, Dropout, MaxPooling2D\n",
        "\n",
        "model_genetic = Sequential()\n",
        "\n",
        "model_genetic.add(Dense(512))\n",
        "model_genetic.add(Activation('relu'))\n",
        "model_genetic.add(Dropout(0.25))\n",
        "model_genetic.add(Dense(256))\n",
        "model_genetic.add(Activation('relu'))\n",
        "model_genetic.add(Dense(20))\n",
        "model_genetic.add(Activation('softmax'))\n",
        "model_genetic.compile(loss=keras.losses.categorical_crossentropy,\n",
        "              optimizer=keras.optimizers.Adadelta(),\n",
        "              metrics=['accuracy'])"
      ],
      "execution_count": null,
      "outputs": []
    },
    {
      "cell_type": "code",
      "metadata": {
        "id": "SiX2P6M5SMVk"
      },
      "source": [
        "# model_genetic.set_weights(initial_weights)"
      ],
      "execution_count": null,
      "outputs": []
    },
    {
      "cell_type": "code",
      "metadata": {
        "id": "4OYHf5jsQvM3",
        "colab": {
          "base_uri": "https://localhost:8080/",
          "height": 1000
        },
        "outputId": "453e339c-7651-4145-89f6-d74acd256e8b"
      },
      "source": [
        "score = model_genetic.evaluate(x_test_h,y_test_h)\n",
        "print(score[1])\n",
        "\n",
        "# history_genetic = model_genetic.fit(pseudo_x_train_2400,pseudo_y_train_2400,verbose=1,epochs=30,batch_size=100,validation_data=(x_test_h,y_test_h),shuffle=True)\n",
        "# history_genetic = model_genetic.fit(synthetic_data,synthetic_labels,verbose=1,epochs=30,batch_size=100,validation_data=(x_test_h,y_test_h),shuffle=True)\n",
        "history_genetic = model_genetic.fit(new_synthetic_data,new_synthetic_labels,verbose=1,epochs=30,batch_size=1000,validation_data=(x_test_h,y_test_h),shuffle=True)"
      ],
      "execution_count": null,
      "outputs": [
        {
          "output_type": "stream",
          "text": [
            "10000/10000 [==============================] - 0s 43us/step\n",
            "0.08330000191926956\n",
            "Train on 1000000 samples, validate on 10000 samples\n",
            "Epoch 1/30\n",
            "1000000/1000000 [==============================] - 7s 7us/step - loss: 1.0261 - accuracy: 0.6116 - val_loss: 2.0703 - val_accuracy: 0.5463\n",
            "Epoch 2/30\n",
            "1000000/1000000 [==============================] - 6s 6us/step - loss: 0.7509 - accuracy: 0.7065 - val_loss: 2.5148 - val_accuracy: 0.5635\n",
            "Epoch 3/30\n",
            "1000000/1000000 [==============================] - 7s 7us/step - loss: 0.6710 - accuracy: 0.7363 - val_loss: 2.3938 - val_accuracy: 0.6042\n",
            "Epoch 4/30\n",
            "1000000/1000000 [==============================] - 7s 7us/step - loss: 0.6249 - accuracy: 0.7539 - val_loss: 2.4549 - val_accuracy: 0.6143\n",
            "Epoch 5/30\n",
            "1000000/1000000 [==============================] - 6s 6us/step - loss: 0.5920 - accuracy: 0.7653 - val_loss: 2.6143 - val_accuracy: 0.6234\n",
            "Epoch 6/30\n",
            "1000000/1000000 [==============================] - 6s 6us/step - loss: 0.5691 - accuracy: 0.7747 - val_loss: 2.4096 - val_accuracy: 0.6422\n",
            "Epoch 7/30\n",
            "1000000/1000000 [==============================] - 6s 6us/step - loss: 0.5496 - accuracy: 0.7822 - val_loss: 2.0938 - val_accuracy: 0.6518\n",
            "Epoch 8/30\n",
            "1000000/1000000 [==============================] - 6s 6us/step - loss: 0.5334 - accuracy: 0.7880 - val_loss: 2.1802 - val_accuracy: 0.6582\n",
            "Epoch 9/30\n",
            "1000000/1000000 [==============================] - 6s 6us/step - loss: 0.5199 - accuracy: 0.7938 - val_loss: 2.2263 - val_accuracy: 0.6646\n",
            "Epoch 10/30\n",
            "1000000/1000000 [==============================] - 7s 7us/step - loss: 0.5079 - accuracy: 0.7981 - val_loss: 1.7389 - val_accuracy: 0.6964\n",
            "Epoch 11/30\n",
            "1000000/1000000 [==============================] - 7s 7us/step - loss: 0.4975 - accuracy: 0.8021 - val_loss: 1.9292 - val_accuracy: 0.6824\n",
            "Epoch 12/30\n",
            "1000000/1000000 [==============================] - 6s 6us/step - loss: 0.4881 - accuracy: 0.8059 - val_loss: 1.8091 - val_accuracy: 0.6973\n",
            "Epoch 13/30\n",
            "1000000/1000000 [==============================] - 7s 7us/step - loss: 0.4809 - accuracy: 0.8094 - val_loss: 1.7040 - val_accuracy: 0.7067\n",
            "Epoch 14/30\n",
            "1000000/1000000 [==============================] - 7s 7us/step - loss: 0.4713 - accuracy: 0.8129 - val_loss: 1.5197 - val_accuracy: 0.7213\n",
            "Epoch 15/30\n",
            "1000000/1000000 [==============================] - 7s 7us/step - loss: 0.4658 - accuracy: 0.8152 - val_loss: 1.6971 - val_accuracy: 0.7091\n",
            "Epoch 16/30\n",
            "1000000/1000000 [==============================] - 7s 7us/step - loss: 0.4596 - accuracy: 0.8175 - val_loss: 1.6772 - val_accuracy: 0.7129\n",
            "Epoch 17/30\n",
            "1000000/1000000 [==============================] - 7s 7us/step - loss: 0.4541 - accuracy: 0.8198 - val_loss: 1.5673 - val_accuracy: 0.7181\n",
            "Epoch 18/30\n",
            "1000000/1000000 [==============================] - 6s 6us/step - loss: 0.4479 - accuracy: 0.8226 - val_loss: 1.7716 - val_accuracy: 0.7132\n",
            "Epoch 19/30\n",
            "1000000/1000000 [==============================] - 6s 6us/step - loss: 0.4435 - accuracy: 0.8240 - val_loss: 1.6958 - val_accuracy: 0.7114\n",
            "Epoch 20/30\n",
            "1000000/1000000 [==============================] - 6s 6us/step - loss: 0.4398 - accuracy: 0.8258 - val_loss: 1.6541 - val_accuracy: 0.7243\n",
            "Epoch 21/30\n",
            "1000000/1000000 [==============================] - 6s 6us/step - loss: 0.4350 - accuracy: 0.8277 - val_loss: 1.5144 - val_accuracy: 0.7310\n",
            "Epoch 22/30\n",
            "1000000/1000000 [==============================] - 6s 6us/step - loss: 0.4306 - accuracy: 0.8291 - val_loss: 1.4802 - val_accuracy: 0.7266\n",
            "Epoch 23/30\n",
            "1000000/1000000 [==============================] - 6s 6us/step - loss: 0.4271 - accuracy: 0.8306 - val_loss: 1.4319 - val_accuracy: 0.7334\n",
            "Epoch 24/30\n",
            "1000000/1000000 [==============================] - 6s 6us/step - loss: 0.4228 - accuracy: 0.8325 - val_loss: 1.4290 - val_accuracy: 0.7476\n",
            "Epoch 25/30\n",
            "1000000/1000000 [==============================] - 6s 6us/step - loss: 0.4195 - accuracy: 0.8337 - val_loss: 1.4493 - val_accuracy: 0.7446\n",
            "Epoch 26/30\n",
            "1000000/1000000 [==============================] - 6s 6us/step - loss: 0.4160 - accuracy: 0.8354 - val_loss: 1.6927 - val_accuracy: 0.7302\n",
            "Epoch 27/30\n",
            "1000000/1000000 [==============================] - 6s 6us/step - loss: 0.4131 - accuracy: 0.8363 - val_loss: 1.4068 - val_accuracy: 0.7544\n",
            "Epoch 28/30\n",
            "1000000/1000000 [==============================] - 6s 6us/step - loss: 0.4092 - accuracy: 0.8382 - val_loss: 1.5460 - val_accuracy: 0.7392\n",
            "Epoch 29/30\n",
            "1000000/1000000 [==============================] - 6s 6us/step - loss: 0.4075 - accuracy: 0.8389 - val_loss: 1.3749 - val_accuracy: 0.7544\n",
            "Epoch 30/30\n",
            "1000000/1000000 [==============================] - 6s 6us/step - loss: 0.4040 - accuracy: 0.8403 - val_loss: 1.4297 - val_accuracy: 0.7555\n"
          ],
          "name": "stdout"
        }
      ]
    },
    {
      "cell_type": "code",
      "metadata": {
        "id": "bv1V1sKvQ2u4"
      },
      "source": [
        "del new_synthetic_data\n",
        "del new_synthetic_labels"
      ],
      "execution_count": null,
      "outputs": []
    }
  ]
}